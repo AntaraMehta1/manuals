{
 "cells": [
  {
   "cell_type": "markdown",
   "metadata": {},
   "source": [
    "# Automatic differentiation"
   ]
  },
  {
   "cell_type": "markdown",
   "metadata": {},
   "source": [
    "**References:**\n",
    "- http://www.columbia.edu/~ahd2125/post/2015/12/5/\n",
    "- https://stackoverflow.com/questions/36370129/does-tensorflow-use-automatic-or-symbolic-gradients"
   ]
  },
  {
   "cell_type": "code",
   "execution_count": 1,
   "metadata": {
    "collapsed": true
   },
   "outputs": [],
   "source": [
    "import tensorflow as tf"
   ]
  },
  {
   "cell_type": "code",
   "execution_count": 2,
   "metadata": {},
   "outputs": [],
   "source": [
    "def my_func(w,x):\n",
    "    \n",
    "    f_0 = tf.exp(w[0,0] + w[0,1]*x)\n",
    "    f_1 = tf.exp(w[1,0] + w[1,1]*f_0)\n",
    "    f_2 = tf.exp(w[2,0] + w[2,1]*f_1)\n",
    "    \n",
    "    return f_0, f_1, f_2"
   ]
  },
  {
   "cell_type": "code",
   "execution_count": 3,
   "metadata": {
    "collapsed": true
   },
   "outputs": [],
   "source": [
    "def my_func(w,x):\n",
    "    \n",
    "    with tf.name_scope(\"f_0_level\") as scope_0:\n",
    "        f_0 = tf.exp(w[0,0], + w[0,1]*x)\n",
    "        \n",
    "    with tf.name_scope(\"f_1_level\") as scope_1:\n",
    "        f_1 = tf.exp(w[1,0], + w[1,1]*x)\n",
    "        \n",
    "    with tf.name_scope(\"f_2_level\") as scope_2:\n",
    "        f_2 = tf.exp(w[2,0], + w[2,1]*x)\n",
    "        \n",
    "    return f_0, f_1, f_2"
   ]
  },
  {
   "cell_type": "code",
   "execution_count": null,
   "metadata": {
    "collapsed": true
   },
   "outputs": [],
   "source": [
    "w_0 = np.vstack((np.zeroes(3)), np.ones(3) )"
   ]
  }
 ],
 "metadata": {
  "kernelspec": {
   "display_name": "Python 3",
   "language": "python",
   "name": "python3"
  },
  "language_info": {
   "codemirror_mode": {
    "name": "ipython",
    "version": 3
   },
   "file_extension": ".py",
   "mimetype": "text/x-python",
   "name": "python",
   "nbconvert_exporter": "python",
   "pygments_lexer": "ipython3",
   "version": "3.6.6"
  }
 },
 "nbformat": 4,
 "nbformat_minor": 2
}
