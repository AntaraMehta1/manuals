{
 "cells": [
  {
   "cell_type": "markdown",
   "metadata": {},
   "source": [
    "# `np.meshgrid()`"
   ]
  },
  {
   "cell_type": "markdown",
   "metadata": {},
   "source": [
    "Return coordinate matrices from coordinate vectors.\n",
    "\n",
    "Make N-D coordinate arrays for vectorized evaluations of N-D scalar/vector fields over N-D grids, given one-dimensional coordinate arrays x1, x2,..., xn.\n",
    "\n",
    "Changed in version 1.9: 1-D and 0-D cases are allowed.\n",
    "\n",
    "## Parameters:\n",
    "\n",
    "x1, x2,..., xn : array_like\n",
    "\n",
    "    1-D arrays representing the coordinates of a grid.\n",
    "\n",
    "indexing : {‘xy’, ‘ij’}, optional\n",
    "\n",
    "    Cartesian (‘xy’, default) or matrix (‘ij’) indexing of output. See Notes for more details.\n",
    "\n",
    "    New in version 1.7.0.\n",
    "\n",
    "sparse : bool, optional\n",
    "\n",
    "    If True a sparse grid is returned in order to conserve memory. Default is False.\n",
    "\n",
    "    New in version 1.7.0.\n",
    "\n",
    "copy : bool, optional\n",
    "\n",
    "    If False, a view into the original arrays are returned in order to conserve memory. Default is True. Please note that sparse=False, copy=False will likely return non-contiguous arrays. Furthermore, more than one element of a broadcast array may refer to a single memory location. If you need to write to the arrays, make copies first.\n",
    "\n",
    "    New in version 1.7.0.\n",
    "\n",
    "## Returns:\n",
    "\n",
    "X1, X2,..., XN : ndarray\n",
    "\n",
    "    For vectors x1, x2,..., ‘xn’ with lengths Ni=len(xi) , return (N1, N2, N3,...Nn) shaped arrays if indexing=’ij’ or (N2, N1, N3,...Nn) shaped arrays if indexing=’xy’ with the elements of xi repeated to fill the matrix along the first dimension for x1, the second for x2 and so on."
   ]
  },
  {
   "cell_type": "code",
   "execution_count": 1,
   "metadata": {
    "collapsed": true
   },
   "outputs": [],
   "source": [
    "import numpy as np\n",
    "import matplotlib.pyplot as plt\n",
    "%matplotlib inline"
   ]
  },
  {
   "cell_type": "code",
   "execution_count": 2,
   "metadata": {
    "collapsed": true
   },
   "outputs": [],
   "source": [
    "x = np.linspace(1.0, 6.0, 5)\n",
    "y = np.linspace(12.0, 15.0, 3)"
   ]
  },
  {
   "cell_type": "code",
   "execution_count": 3,
   "metadata": {
    "collapsed": true
   },
   "outputs": [],
   "source": [
    "X,Y = np.meshgrid(x,y, indexing='xy')"
   ]
  },
  {
   "cell_type": "markdown",
   "metadata": {},
   "source": [
    "- `indexing='xy'` (default)\n",
    "\n",
    "    In this case `X` and `Y` are of size: `(len(y), len(x))`\n",
    "\n",
    "    For the above example:\n",
    "    - `X.shape = (3,5)`\n",
    "    - `Y.shape = (3,5)`\n",
    "\n",
    "- If `indexing='ij'`:\n",
    "\n",
    "  In this case `X` and `Y` are of size: `(len(x), len(y))`\n",
    "  \n",
    "  For the above example:\n",
    "  - `X.shape = (5,3)`\n",
    "  - `Y.shape = (5,3)`"
   ]
  },
  {
   "cell_type": "code",
   "execution_count": 4,
   "metadata": {},
   "outputs": [
    {
     "data": {
      "text/plain": [
       "(3, 5)"
      ]
     },
     "execution_count": 4,
     "metadata": {},
     "output_type": "execute_result"
    }
   ],
   "source": [
    "X.shape"
   ]
  },
  {
   "cell_type": "code",
   "execution_count": 5,
   "metadata": {},
   "outputs": [
    {
     "data": {
      "text/plain": [
       "array([[ 1.  ,  2.25,  3.5 ,  4.75,  6.  ],\n",
       "       [ 1.  ,  2.25,  3.5 ,  4.75,  6.  ],\n",
       "       [ 1.  ,  2.25,  3.5 ,  4.75,  6.  ]])"
      ]
     },
     "execution_count": 5,
     "metadata": {},
     "output_type": "execute_result"
    }
   ],
   "source": [
    "X"
   ]
  },
  {
   "cell_type": "code",
   "execution_count": 6,
   "metadata": {},
   "outputs": [
    {
     "data": {
      "text/plain": [
       "(3, 5)"
      ]
     },
     "execution_count": 6,
     "metadata": {},
     "output_type": "execute_result"
    }
   ],
   "source": [
    "Y.shape"
   ]
  },
  {
   "cell_type": "code",
   "execution_count": 7,
   "metadata": {},
   "outputs": [
    {
     "data": {
      "text/plain": [
       "array([[ 12. ,  12. ,  12. ,  12. ,  12. ],\n",
       "       [ 13.5,  13.5,  13.5,  13.5,  13.5],\n",
       "       [ 15. ,  15. ,  15. ,  15. ,  15. ]])"
      ]
     },
     "execution_count": 7,
     "metadata": {},
     "output_type": "execute_result"
    }
   ],
   "source": [
    "Y"
   ]
  },
  {
   "cell_type": "markdown",
   "metadata": {},
   "source": [
    "Notice that the starting point `(X,Y)[0,0]` is in the top-left corner."
   ]
  },
  {
   "cell_type": "code",
   "execution_count": 8,
   "metadata": {},
   "outputs": [
    {
     "data": {
      "image/png": "[encoded data removed]",
      "text/plain": [
       "<matplotlib.figure.Figure at 0x7fab444dd630>"
      ]
     },
     "metadata": {},
     "output_type": "display_data"
    }
   ],
   "source": [
    "im = plt.imshow(X)\n",
    "cb = plt.colorbar(im)"
   ]
  },
  {
   "cell_type": "code",
   "execution_count": 9,
   "metadata": {},
   "outputs": [
    {
     "data": {
      "image/png": "[encoded data removed]",
      "text/plain": [
       "<matplotlib.figure.Figure at 0x7fab41fa37b8>"
      ]
     },
     "metadata": {},
     "output_type": "display_data"
    }
   ],
   "source": [
    "im = plt.imshow(Y)\n",
    "cb = plt.colorbar(im)"
   ]
  }
 ],
 "metadata": {
  "kernelspec": {
   "display_name": "Python 3",
   "language": "python",
   "name": "python3"
  },
  "language_info": {
   "codemirror_mode": {
    "name": "ipython",
    "version": 3
   },
   "file_extension": ".py",
   "mimetype": "text/x-python",
   "name": "python",
   "nbconvert_exporter": "python",
   "pygments_lexer": "ipython3",
   "version": "3.6.2"
  }
 },
 "nbformat": 4,
 "nbformat_minor": 2
}
